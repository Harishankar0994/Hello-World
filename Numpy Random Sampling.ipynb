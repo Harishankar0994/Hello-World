{
 "cells": [
  {
   "cell_type": "markdown",
   "metadata": {},
   "source": [
    "#  Random Sampling"
   ]
  },
  {
   "cell_type": "code",
   "execution_count": 1,
   "metadata": {},
   "outputs": [],
   "source": [
    "import numpy as np\n",
    "import random"
   ]
  },
  {
   "cell_type": "code",
   "execution_count": 2,
   "metadata": {},
   "outputs": [
    {
     "data": {
      "text/plain": [
       "array([0.44072607, 0.22803884])"
      ]
     },
     "execution_count": 2,
     "metadata": {},
     "output_type": "execute_result"
    }
   ],
   "source": [
    "np.random.random(2)                                                       # Create 2 random values"
   ]
  },
  {
   "cell_type": "code",
   "execution_count": 5,
   "metadata": {},
   "outputs": [
    {
     "data": {
      "text/plain": [
       "array([[0.32991295, 0.60884173, 0.84694221, 0.21137622],\n",
       "       [0.48159941, 0.20165973, 0.49734273, 0.07260251],\n",
       "       [0.08669873, 0.76304008, 0.45307693, 0.07888409],\n",
       "       [0.46795904, 0.31926632, 0.51473146, 0.83537231]])"
      ]
     },
     "execution_count": 5,
     "metadata": {},
     "output_type": "execute_result"
    }
   ],
   "source": [
    "np.random.random((4,4))"
   ]
  },
  {
   "cell_type": "code",
   "execution_count": 6,
   "metadata": {},
   "outputs": [
    {
     "data": {
      "text/plain": [
       "5"
      ]
     },
     "execution_count": 6,
     "metadata": {},
     "output_type": "execute_result"
    }
   ],
   "source": [
    "np.random.randint(4,7)"
   ]
  },
  {
   "cell_type": "code",
   "execution_count": 9,
   "metadata": {},
   "outputs": [
    {
     "data": {
      "text/plain": [
       "array([[23, 19, 21, 12, 23, 32, 28,  6,  6, 35],\n",
       "       [31, 38,  7, 10, 20, 11, 34, 27, 27, 24],\n",
       "       [21, 39, 18, 22, 11, 34, 35, 31,  9, 37],\n",
       "       [20, 20, 23, 31, 10, 27, 16, 37, 15, 35],\n",
       "       [27, 33, 31, 14, 15, 36, 11,  6, 35,  7],\n",
       "       [ 4, 22, 19, 35, 34,  8, 14, 10, 38, 15],\n",
       "       [18, 22, 18, 18, 20, 15,  9,  8, 34, 20],\n",
       "       [38, 36,  8, 18, 31, 34, 30, 21, 32, 13],\n",
       "       [19, 29, 28, 27, 32, 15, 16, 31, 34, 14],\n",
       "       [39, 25, 38, 23, 29, 29, 11, 25, 38, 21]])"
      ]
     },
     "execution_count": 9,
     "metadata": {},
     "output_type": "execute_result"
    }
   ],
   "source": [
    "np.random.randint(4,40,(10,10))                                          # Random array in integer format"
   ]
  },
  {
   "cell_type": "code",
   "execution_count": 12,
   "metadata": {},
   "outputs": [
    {
     "data": {
      "text/plain": [
       "array([[[26, 32, 29, 30, 33, 15],\n",
       "        [11, 24, 21, 22, 13,  6],\n",
       "        [37,  6, 17, 37, 15, 39],\n",
       "        [35, 14, 38, 31, 15, 25],\n",
       "        [19, 26,  4, 22,  5, 30]],\n",
       "\n",
       "       [[ 9, 27, 15, 20, 27, 21],\n",
       "        [18, 36, 25, 20, 26, 34],\n",
       "        [34, 23, 33, 25, 18, 11],\n",
       "        [34, 16,  7, 35, 25, 23],\n",
       "        [ 9, 15, 31, 36, 34, 26]],\n",
       "\n",
       "       [[13, 12, 11, 19,  7, 28],\n",
       "        [ 8,  8, 38, 35, 14, 33],\n",
       "        [ 5,  8, 16, 22, 25, 27],\n",
       "        [24, 16, 16,  4, 23, 10],\n",
       "        [19, 14,  6, 15, 24, 11]]])"
      ]
     },
     "execution_count": 12,
     "metadata": {},
     "output_type": "execute_result"
    }
   ],
   "source": [
    "np.random.randint(4,40,(3,5,6))                                  # 3 Random array of 5 row and 6 column,"
   ]
  },
  {
   "cell_type": "code",
   "execution_count": 14,
   "metadata": {},
   "outputs": [
    {
     "data": {
      "text/plain": [
       "array([[[32, 26,  5, 26, 31, 37],\n",
       "        [33, 32,  4, 28, 14, 33],\n",
       "        [16, 22, 26,  5, 39, 15],\n",
       "        [23, 13, 20, 17, 37, 17],\n",
       "        [33, 26,  8, 39,  4, 14]],\n",
       "\n",
       "       [[20,  8,  9, 28, 23, 34],\n",
       "        [ 8, 12,  4,  5, 38, 31],\n",
       "        [17, 11, 19,  6, 33, 38],\n",
       "        [23, 23, 21, 36, 38, 20],\n",
       "        [18, 15, 33, 11, 31, 36]],\n",
       "\n",
       "       [[22, 31,  4,  5, 27, 37],\n",
       "        [26, 22, 25, 36, 20, 25],\n",
       "        [23, 27, 34, 16, 19, 15],\n",
       "        [26,  6, 16, 25, 25, 22],\n",
       "        [14, 26, 33, 39,  5, 10]]])"
      ]
     },
     "execution_count": 14,
     "metadata": {},
     "output_type": "execute_result"
    }
   ],
   "source": [
    "np.random.seed(9)\n",
    "np.random.randint(4,40,(3,5,6))"
   ]
  },
  {
   "cell_type": "code",
   "execution_count": 15,
   "metadata": {
    "scrolled": true
   },
   "outputs": [
    {
     "data": {
      "text/plain": [
       "array([[[32, 26,  5, 26, 31, 37],\n",
       "        [33, 32,  4, 28, 14, 33],\n",
       "        [16, 22, 26,  5, 39, 15],\n",
       "        [23, 13, 20, 17, 37, 17],\n",
       "        [33, 26,  8, 39,  4, 14]],\n",
       "\n",
       "       [[20,  8,  9, 28, 23, 34],\n",
       "        [ 8, 12,  4,  5, 38, 31],\n",
       "        [17, 11, 19,  6, 33, 38],\n",
       "        [23, 23, 21, 36, 38, 20],\n",
       "        [18, 15, 33, 11, 31, 36]],\n",
       "\n",
       "       [[22, 31,  4,  5, 27, 37],\n",
       "        [26, 22, 25, 36, 20, 25],\n",
       "        [23, 27, 34, 16, 19, 15],\n",
       "        [26,  6, 16, 25, 25, 22],\n",
       "        [14, 26, 33, 39,  5, 10]]])"
      ]
     },
     "execution_count": 15,
     "metadata": {},
     "output_type": "execute_result"
    }
   ],
   "source": [
    "np.random.seed(9)                   # Seed() if we call this process seed() function always return the same values\n",
    "np.random.randint(4,40,(3,5,6))"
   ]
  },
  {
   "cell_type": "code",
   "execution_count": 16,
   "metadata": {},
   "outputs": [
    {
     "data": {
      "text/plain": [
       "array([0.18315273, 0.10931052, 0.53957552, 0.28929928, 0.10305405])"
      ]
     },
     "execution_count": 16,
     "metadata": {},
     "output_type": "execute_result"
    }
   ],
   "source": [
    "np.random.rand(5)                                       # rand() for random values but always return values less than 1"
   ]
  },
  {
   "cell_type": "code",
   "execution_count": 17,
   "metadata": {},
   "outputs": [
    {
     "data": {
      "text/plain": [
       "array([[0.49060155, 0.63209168, 0.03796922, 0.50010792, 0.08354343],\n",
       "       [0.79131823, 0.75803602, 0.26227322, 0.10085859, 0.91719271],\n",
       "       [0.51746024, 0.13353968, 0.11254311, 0.84164115, 0.54607474],\n",
       "       [0.26101658, 0.57582552, 0.31385261, 0.79162319, 0.49309072],\n",
       "       [0.96515818, 0.52031194, 0.9030216 , 0.24980456, 0.5214873 ]])"
      ]
     },
     "execution_count": 17,
     "metadata": {},
     "output_type": "execute_result"
    }
   ],
   "source": [
    "np.random.rand(5,5)"
   ]
  },
  {
   "cell_type": "code",
   "execution_count": 20,
   "metadata": {},
   "outputs": [
    {
     "data": {
      "text/plain": [
       "array([[-0.24080791,  0.27080725, -1.09553963,  2.40134297, -0.27990974],\n",
       "       [ 2.0308008 , -0.08193947, -1.21862641, -0.8068705 ,  1.31804189],\n",
       "       [-0.57863866,  0.0820525 ,  1.39591049,  1.08187963, -1.01656093],\n",
       "       [-0.2919983 ,  1.55935821, -0.54630018,  0.96059071,  0.21121052]])"
      ]
     },
     "execution_count": 20,
     "metadata": {},
     "output_type": "execute_result"
    }
   ],
   "source": [
    "np.random.randn(4,5)                                           # randn() return values in -ve/+ve format."
   ]
  },
  {
   "cell_type": "code",
   "execution_count": 22,
   "metadata": {},
   "outputs": [
    {
     "data": {
      "text/plain": [
       "array([[-0.77605336, -0.64759606, -0.48733461,  0.37526388],\n",
       "       [-1.03600638, -0.13392398,  0.3848789 ,  0.35439691],\n",
       "       [ 0.34263762, -0.59730083, -0.18854823,  0.70032497],\n",
       "       [-1.32562343,  0.93702845, -0.45068969,  0.93112913]])"
      ]
     },
     "execution_count": 22,
     "metadata": {},
     "output_type": "execute_result"
    }
   ],
   "source": [
    "np.random.randn(4,4)"
   ]
  },
  {
   "cell_type": "code",
   "execution_count": 23,
   "metadata": {},
   "outputs": [
    {
     "data": {
      "text/plain": [
       "array([78, 15,  1, 20, 41])"
      ]
     },
     "execution_count": 23,
     "metadata": {},
     "output_type": "execute_result"
    }
   ],
   "source": [
    "x=[41,15,20,1,78]\n",
    "np.random.permutation(x)"
   ]
  },
  {
   "cell_type": "code",
   "execution_count": 24,
   "metadata": {},
   "outputs": [
    {
     "data": {
      "text/plain": [
       "array([ 1, 20, 41, 15, 78])"
      ]
     },
     "execution_count": 24,
     "metadata": {},
     "output_type": "execute_result"
    }
   ],
   "source": [
    "np.random.permutation(x)"
   ]
  },
  {
   "cell_type": "code",
   "execution_count": null,
   "metadata": {},
   "outputs": [],
   "source": []
  }
 ],
 "metadata": {
  "kernelspec": {
   "display_name": "Python 3",
   "language": "python",
   "name": "python3"
  },
  "language_info": {
   "codemirror_mode": {
    "name": "ipython",
    "version": 3
   },
   "file_extension": ".py",
   "mimetype": "text/x-python",
   "name": "python",
   "nbconvert_exporter": "python",
   "pygments_lexer": "ipython3",
   "version": "3.7.1"
  }
 },
 "nbformat": 4,
 "nbformat_minor": 2
}
